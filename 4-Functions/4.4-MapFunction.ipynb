{
 "cells": [
  {
   "cell_type": "markdown",
   "id": "f8308a65",
   "metadata": {},
   "source": [
    "#### The map() Function in Python\n",
    "The map() function applies a given function to all items in an input list (or any other iterable) and returns a map object (an iterator). This is particularly useful for transforming data in a list comprehensively."
   ]
  },
  {
   "cell_type": "code",
   "execution_count": 1,
   "id": "353d8c90",
   "metadata": {},
   "outputs": [
    {
     "data": {
      "text/plain": [
       "100"
      ]
     },
     "execution_count": 1,
     "metadata": {},
     "output_type": "execute_result"
    }
   ],
   "source": [
    "def square(x):\n",
    "  return x**2\n",
    "\n",
    "square(10)"
   ]
  },
  {
   "cell_type": "code",
   "execution_count": 3,
   "id": "cb227bd6",
   "metadata": {},
   "outputs": [
    {
     "data": {
      "text/plain": [
       "[1, 4, 9, 16, 25, 36, 49, 64]"
      ]
     },
     "execution_count": 3,
     "metadata": {},
     "output_type": "execute_result"
    }
   ],
   "source": [
    "nums = [1,2,3,4,5,6,7,8]\n",
    "\n",
    "list(map(square, nums))"
   ]
  },
  {
   "cell_type": "code",
   "execution_count": 4,
   "id": "bc6d11be",
   "metadata": {},
   "outputs": [
    {
     "data": {
      "text/plain": [
       "[1, 4, 9, 16, 25, 36, 49, 64]"
      ]
     },
     "execution_count": 4,
     "metadata": {},
     "output_type": "execute_result"
    }
   ],
   "source": [
    "## lambda function with map()\n",
    "nums=[1,2,3,4,5,6,7,8]\n",
    "list(map(lambda x : x**2, nums))"
   ]
  },
  {
   "cell_type": "code",
   "execution_count": null,
   "id": "daa5766a",
   "metadata": {},
   "outputs": [
    {
     "name": "stdout",
     "output_type": "stream",
     "text": [
      "[5, 7, 9]\n"
     ]
    }
   ],
   "source": [
    "## map multiple iterables\n",
    "\n",
    "nums1 = [1,2,3]\n",
    "nums2 = [4,5,6]\n",
    "\n",
    "added_nums = list(map(lambda x,y: x+y, nums1, nums2))\n",
    "print(added_nums)"
   ]
  },
  {
   "cell_type": "code",
   "execution_count": 6,
   "id": "9d99b8ba",
   "metadata": {},
   "outputs": [
    {
     "name": "stdout",
     "output_type": "stream",
     "text": [
      "[1, 2, 3, 4]\n"
     ]
    }
   ],
   "source": [
    "## map() to convert a list of strings to integers\n",
    "## use map to convert strings to integers\n",
    "\n",
    "str_nums = ['1', '2', '3', '4']\n",
    "int_nums = list(map(int, str_nums))\n",
    "print(int_nums)"
   ]
  },
  {
   "cell_type": "code",
   "execution_count": null,
   "id": "a7333de9",
   "metadata": {},
   "outputs": [
    {
     "name": "stdout",
     "output_type": "stream",
     "text": [
      "['APPLE', 'BANANA', 'CHERRY']\n"
     ]
    }
   ],
   "source": [
    "words=[\"apple\", \"banana\", \"cherry\"]\n",
    "upper_words = list(map(str.upper, words))\n",
    "print(upper_words)"
   ]
  },
  {
   "cell_type": "code",
   "execution_count": 8,
   "id": "f9e272f6",
   "metadata": {},
   "outputs": [
    {
     "data": {
      "text/plain": [
       "['Bob', 'Oggy', 'Jack']"
      ]
     },
     "execution_count": 8,
     "metadata": {},
     "output_type": "execute_result"
    }
   ],
   "source": [
    "def get_name(person):\n",
    "  return person[\"name\"]\n",
    "\n",
    "people=[\n",
    "  {\"name\": \"Bob\", \"age\": 10},\n",
    "  {\"name\": \"Oggy\", \"age\" : 12},\n",
    "  {\"name\": \"Jack\", \"age\" : 14}\n",
    "]\n",
    "\n",
    "list(map(get_name, people))"
   ]
  },
  {
   "cell_type": "markdown",
   "id": "1ac26191",
   "metadata": {},
   "source": [
    "#### Conclusion\n",
    "The map() function is a powerful tool for applying transformations to iterable data structures. It can be used with regular functions, lambda functions, and even multiple iterables, providing a versatile approach to data processing in Python. By understanding and utilizing map(), you can write more efficient and readable code."
   ]
  }
 ],
 "metadata": {
  "kernelspec": {
   "display_name": "Python 3",
   "language": "python",
   "name": "python3"
  },
  "language_info": {
   "codemirror_mode": {
    "name": "ipython",
    "version": 3
   },
   "file_extension": ".py",
   "mimetype": "text/x-python",
   "name": "python",
   "nbconvert_exporter": "python",
   "pygments_lexer": "ipython3",
   "version": "3.12.0"
  }
 },
 "nbformat": 4,
 "nbformat_minor": 5
}
