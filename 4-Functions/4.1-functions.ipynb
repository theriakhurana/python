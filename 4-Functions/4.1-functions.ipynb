{
 "cells": [
  {
   "cell_type": "markdown",
   "id": "e2fa856d",
   "metadata": {},
   "source": [
    "#### Functions in Python\n",
    "\n",
    "1. Introduction to Functions\n",
    "2. Defining Functions\n",
    "3. Calling Functions\n",
    "4. Function Parameters\n",
    "5. Default Parameters\n",
    "6. Variable-Length Arguments\n",
    "7. Return Statement\n",
    "\n",
    "#### Introduction to Functions\n",
    "Definition:\n",
    "\n",
    "A function is a block of code that performs a specific task. Functions help in organizing code, reusing code, and improving readability."
   ]
  },
  {
   "cell_type": "code",
   "execution_count": null,
   "id": "02266819",
   "metadata": {},
   "outputs": [],
   "source": [
    "## syntax\n",
    "def function_name(parameters) :\n",
    "  \"Docstring\"\n",
    "  # Function body\n",
    "  return expression"
   ]
  },
  {
   "cell_type": "code",
   "execution_count": 2,
   "id": "65af8697",
   "metadata": {},
   "outputs": [
    {
     "name": "stdout",
     "output_type": "stream",
     "text": [
      "the number is even\n"
     ]
    }
   ],
   "source": [
    "## why functions?\n",
    "num=24\n",
    "if num % 2 == 0 :\n",
    "  print(\"the number is even\")\n",
    "else:\n",
    "  print(\"the number is odd\")"
   ]
  },
  {
   "cell_type": "code",
   "execution_count": 3,
   "id": "d46996eb",
   "metadata": {},
   "outputs": [],
   "source": [
    "def even_or_odd(num):\n",
    "  \"This function finds even or odd\"\n",
    "  if num % 2 == 0:\n",
    "    print(\"the number is even\")\n",
    "  else:\n",
    "    print(\"the number is odd\")"
   ]
  },
  {
   "cell_type": "code",
   "execution_count": 5,
   "id": "0052de26",
   "metadata": {},
   "outputs": [
    {
     "name": "stdout",
     "output_type": "stream",
     "text": [
      "the number is odd\n",
      "the number is even\n"
     ]
    }
   ],
   "source": [
    "## call this function\n",
    "even_or_odd(23)\n",
    "even_or_odd(24)"
   ]
  },
  {
   "cell_type": "code",
   "execution_count": 6,
   "id": "41a0575e",
   "metadata": {},
   "outputs": [
    {
     "name": "stdout",
     "output_type": "stream",
     "text": [
      "7\n"
     ]
    }
   ],
   "source": [
    "## function with multiple parameters\n",
    "def add(a,b):\n",
    "  return a+b\n",
    "\n",
    "result=add(2,5)\n",
    "print(result)"
   ]
  },
  {
   "cell_type": "code",
   "execution_count": 10,
   "id": "ae67a947",
   "metadata": {},
   "outputs": [
    {
     "name": "stdout",
     "output_type": "stream",
     "text": [
      "Hello Bruce!\n",
      "Hello Guest!\n"
     ]
    }
   ],
   "source": [
    "## default parameters\n",
    "def greet(name=\"Guest\"):\n",
    "  print(f\"Hello {name}!\")\n",
    "\n",
    "greet(\"Bruce\")\n",
    "greet()"
   ]
  },
  {
   "cell_type": "code",
   "execution_count": null,
   "id": "ef514f37",
   "metadata": {},
   "outputs": [],
   "source": [
    "## variable length arguments\n",
    "## positional arguments\n",
    "\n",
    "def print_numbers(*args):\n",
    "  for num in args:\n",
    "    print(num)"
   ]
  },
  {
   "cell_type": "code",
   "execution_count": 13,
   "id": "098049ee",
   "metadata": {},
   "outputs": [
    {
     "name": "stdout",
     "output_type": "stream",
     "text": [
      "1\n",
      "2\n",
      "3\n",
      "4\n",
      "5\n",
      "Ria\n"
     ]
    }
   ],
   "source": [
    "print_numbers(1,2,3,4,5,\"Ria\")"
   ]
  },
  {
   "cell_type": "code",
   "execution_count": 14,
   "id": "5793c2c4",
   "metadata": {},
   "outputs": [],
   "source": [
    "### keywords arguments\n",
    "def print_details(**kwargs):\n",
    "  for key, value in kwargs.items():\n",
    "    print(f\"{key}: {value}\")"
   ]
  },
  {
   "cell_type": "code",
   "execution_count": 15,
   "id": "660f6816",
   "metadata": {},
   "outputs": [
    {
     "name": "stdout",
     "output_type": "stream",
     "text": [
      "name: America\n",
      "age: 30\n",
      "city: New York\n"
     ]
    }
   ],
   "source": [
    "print_details(name=\"America\", age=30, city=\"New York\")"
   ]
  },
  {
   "cell_type": "code",
   "execution_count": 16,
   "id": "922e8640",
   "metadata": {},
   "outputs": [],
   "source": [
    "def print_details(*args, **kwargs):\n",
    "  for val in args:\n",
    "    print(f\"Positional arument: {val}\")\n",
    "  \n",
    "  for key, value in kwargs.items():\n",
    "    print(f\"{key}: {value}\")"
   ]
  },
  {
   "cell_type": "code",
   "execution_count": 17,
   "id": "5bba169e",
   "metadata": {},
   "outputs": [
    {
     "name": "stdout",
     "output_type": "stream",
     "text": [
      "Positional arument: USA\n",
      "Positional arument: 1\n",
      "Positional arument: 2\n",
      "Positional arument: 3\n",
      "Positional arument: Canada\n",
      "name: America\n",
      "age: 30\n",
      "city: New York\n"
     ]
    }
   ],
   "source": [
    "print_details(\"USA\", 1,2,3,\"Canada\", name=\"America\", age=30, city=\"New York\")"
   ]
  },
  {
   "cell_type": "code",
   "execution_count": 20,
   "id": "64f5be4b",
   "metadata": {},
   "outputs": [
    {
     "data": {
      "text/plain": [
       "8"
      ]
     },
     "execution_count": 20,
     "metadata": {},
     "output_type": "execute_result"
    }
   ],
   "source": [
    "## return statement\n",
    "\n",
    "def multiply(a,b):\n",
    "  return a*b\n",
    "\n",
    "multiply(2,4)"
   ]
  },
  {
   "cell_type": "code",
   "execution_count": null,
   "id": "074c2c39",
   "metadata": {},
   "outputs": [
    {
     "data": {
      "text/plain": [
       "(50, 5)"
      ]
     },
     "execution_count": 19,
     "metadata": {},
     "output_type": "execute_result"
    }
   ],
   "source": [
    "## return multiple parameters\n",
    "\n",
    "def multiply(a,b):\n",
    "  return a*b,a\n",
    "\n",
    "multiply(5,10)"
   ]
  }
 ],
 "metadata": {
  "kernelspec": {
   "display_name": "Python 3",
   "language": "python",
   "name": "python3"
  },
  "language_info": {
   "codemirror_mode": {
    "name": "ipython",
    "version": 3
   },
   "file_extension": ".py",
   "mimetype": "text/x-python",
   "name": "python",
   "nbconvert_exporter": "python",
   "pygments_lexer": "ipython3",
   "version": "3.12.0"
  }
 },
 "nbformat": 4,
 "nbformat_minor": 5
}
