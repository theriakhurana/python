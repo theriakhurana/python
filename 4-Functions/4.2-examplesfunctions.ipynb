{
 "cells": [
  {
   "cell_type": "markdown",
   "id": "308acdaf",
   "metadata": {},
   "source": [
    "#### Functions Examples\n",
    "\n",
    "#### Example 1: Temperature Conversion"
   ]
  },
  {
   "cell_type": "code",
   "execution_count": 3,
   "id": "57ee6a59",
   "metadata": {},
   "outputs": [
    {
     "name": "stdout",
     "output_type": "stream",
     "text": [
      "212.0\n",
      "100.0\n"
     ]
    }
   ],
   "source": [
    "def convert_temperature(temp, unit):\n",
    "  \"\"\"This function converts temperature between celsius and fahrenheit\"\"\"\n",
    "  if unit == \"C\":\n",
    "    return (temp * 9/5) + 32 ## celcius to fahrenheit\n",
    "  elif unit == \"F\":\n",
    "    return (temp-32) * 5/9 ## fahrenheit to celsius\n",
    "  else:\n",
    "    return None\n",
    "\n",
    "print(convert_temperature(100, \"C\"))\n",
    "print(convert_temperature(212, \"F\"))"
   ]
  },
  {
   "cell_type": "markdown",
   "id": "7d49a8d7",
   "metadata": {},
   "source": [
    "#### Example 2: Password Strength Checker"
   ]
  },
  {
   "cell_type": "code",
   "execution_count": null,
   "id": "611156de",
   "metadata": {},
   "outputs": [
    {
     "name": "stdout",
     "output_type": "stream",
     "text": [
      "True\n",
      "False\n"
     ]
    }
   ],
   "source": [
    "def is_strong_password(password):\n",
    "  \"\"\"This function checks the strength of a password.\"\"\"\n",
    "  if len(password) < 8:\n",
    "    return False\n",
    "  if not any(char.isdigit() for char in password):\n",
    "    return False\n",
    "  if not any(char.isupper() for char in password):\n",
    "    return False\n",
    "  if not any(char.islower() for char in password):\n",
    "    return False\n",
    "  if not any(char in \"!@#$%^&*()_+\" for char in password):\n",
    "    return False\n",
    "  return True\n",
    "\n",
    "## check password\n",
    "print(is_strong_password(\"Password123!\"))\n",
    "print(is_strong_password(\"weakPass\"))"
   ]
  },
  {
   "cell_type": "markdown",
   "id": "99351e30",
   "metadata": {},
   "source": [
    "#### Example 3: Calculate the total cost of items in a shopping cart"
   ]
  },
  {
   "cell_type": "code",
   "execution_count": 5,
   "id": "3d0335c1",
   "metadata": {},
   "outputs": [
    {
     "name": "stdout",
     "output_type": "stream",
     "text": [
      "6.2\n"
     ]
    }
   ],
   "source": [
    "def calculate_total_cost(cart):\n",
    "  total_cost=0\n",
    "  for item in cart:\n",
    "    total_cost += item[\"price\"] * item[\"quantity\"]\n",
    "\n",
    "  return total_cost \n",
    "\n",
    "## cart data\n",
    "cart = [\n",
    "  {\"name\": \"apple\", \"price\": 0.5, \"quantity\": 4},\n",
    "  {\"name\": \"banana\", \"price\": 0.3, \"quantity\": 6},\n",
    "  {\"name\": \"orange\", \"price\": 0.8, \"quantity\": 3}\n",
    "]\n",
    "\n",
    "## calculate total cost\n",
    "print(calculate_total_cost(cart))"
   ]
  },
  {
   "cell_type": "markdown",
   "id": "58bfed2e",
   "metadata": {},
   "source": [
    "#### Example 4: Check if a string is palindrome"
   ]
  },
  {
   "cell_type": "code",
   "execution_count": 6,
   "id": "3f62bad5",
   "metadata": {},
   "outputs": [
    {
     "name": "stdout",
     "output_type": "stream",
     "text": [
      "True\n",
      "False\n"
     ]
    }
   ],
   "source": [
    "def is_palindrome(s):\n",
    "  s = s.lower().replace(\" \", \"\")\n",
    "  return s == s[::-1]\n",
    "\n",
    "print(is_palindrome(\"A man a plan a canal Panama\"))\n",
    "print(is_palindrome(\"Hello\"))"
   ]
  },
  {
   "cell_type": "markdown",
   "id": "6486ea13",
   "metadata": {},
   "source": [
    "#### Example 5 : Calculate the factorial of a num using recursion"
   ]
  },
  {
   "cell_type": "code",
   "execution_count": 7,
   "id": "62c64118",
   "metadata": {},
   "outputs": [
    {
     "name": "stdout",
     "output_type": "stream",
     "text": [
      "120\n"
     ]
    }
   ],
   "source": [
    "def factorial(n):\n",
    "  if n == 0:\n",
    "    return 1\n",
    "  else:\n",
    "    return n * factorial(n-1)\n",
    "\n",
    "print(factorial(5))"
   ]
  },
  {
   "cell_type": "markdown",
   "id": "04c9022e",
   "metadata": {},
   "source": [
    "#### Example 6 : A function to read a file and count the frequency of each word"
   ]
  },
  {
   "cell_type": "code",
   "execution_count": 8,
   "id": "2907755b",
   "metadata": {},
   "outputs": [
    {
     "name": "stdout",
     "output_type": "stream",
     "text": [
      "{'hello': 1, 'world': 1, \"how's\": 1, 'your': 1, 'third': 1, 'year': 2, 'going': 1, 'we': 1, 'met': 1, 'last': 1}\n"
     ]
    }
   ],
   "source": [
    "def count_word_frequency(file_path):\n",
    "  word_count={}\n",
    "  with open(file_path, 'r') as file:\n",
    "    for line in file:\n",
    "      words = line.split()\n",
    "      for word in words:\n",
    "        word = word.lower().strip('.,!?;\"\\'')\n",
    "        word_count[word] = word_count.get(word,0) + 1\n",
    "        \n",
    "  return word_count\n",
    "\n",
    "file_path=\"sample.txt\"\n",
    "word_frequency = count_word_frequency(file_path)\n",
    "print(word_frequency)"
   ]
  },
  {
   "cell_type": "markdown",
   "id": "17f2c67d",
   "metadata": {},
   "source": [
    "#### Example 7: Validate Email Address"
   ]
  },
  {
   "cell_type": "code",
   "execution_count": 9,
   "id": "cbb78903",
   "metadata": {},
   "outputs": [
    {
     "name": "stdout",
     "output_type": "stream",
     "text": [
      "True\n",
      "False\n"
     ]
    }
   ],
   "source": [
    "import re\n",
    "\n",
    "# Email validation function\n",
    "def is_valid_email(email):\n",
    "    \"\"\"This function checks if the email is valid.\"\"\"\n",
    "    pattern = r'^[a-zA-Z0-9_.+-]+@[a-zA-Z0-9-]+\\.[a-zA-Z0-9-.]+$'\n",
    "    return re.match(pattern, email) is not None\n",
    "\n",
    "# Calling the function\n",
    "print(is_valid_email(\"test@example.com\"))  # Output: True\n",
    "print(is_valid_email(\"invalid-email\"))  # Output: False"
   ]
  }
 ],
 "metadata": {
  "kernelspec": {
   "display_name": "Python 3",
   "language": "python",
   "name": "python3"
  },
  "language_info": {
   "codemirror_mode": {
    "name": "ipython",
    "version": 3
   },
   "file_extension": ".py",
   "mimetype": "text/x-python",
   "name": "python",
   "nbconvert_exporter": "python",
   "pygments_lexer": "ipython3",
   "version": "3.12.0"
  }
 },
 "nbformat": 4,
 "nbformat_minor": 5
}
