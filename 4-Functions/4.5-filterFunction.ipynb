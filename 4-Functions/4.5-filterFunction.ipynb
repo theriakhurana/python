{
 "cells": [
  {
   "cell_type": "markdown",
   "id": "c3585913",
   "metadata": {},
   "source": [
    "The filter() Function in Python\n",
    "\n",
    "The filter() function constructs an iterator from elements of an iterable for which a function returns true. It is used to filter out items from a list (or any other iterable) based on a condition."
   ]
  },
  {
   "cell_type": "code",
   "execution_count": 1,
   "id": "1a97707f",
   "metadata": {},
   "outputs": [],
   "source": [
    "def even(num):\n",
    "  if num % 2 == 0:\n",
    "    return True"
   ]
  },
  {
   "cell_type": "code",
   "execution_count": 2,
   "id": "f09d5a54",
   "metadata": {},
   "outputs": [
    {
     "data": {
      "text/plain": [
       "True"
      ]
     },
     "execution_count": 2,
     "metadata": {},
     "output_type": "execute_result"
    }
   ],
   "source": [
    "even(24)"
   ]
  },
  {
   "cell_type": "code",
   "execution_count": null,
   "id": "ddcfbf71",
   "metadata": {},
   "outputs": [
    {
     "data": {
      "text/plain": [
       "[2, 4, 6, 8, 10, 12]"
      ]
     },
     "execution_count": 4,
     "metadata": {},
     "output_type": "execute_result"
    }
   ],
   "source": [
    "lst = [1,2,3,4,5,6,7,8,9,10,11,12]\n",
    "list(filter(even, lst))"
   ]
  },
  {
   "cell_type": "code",
   "execution_count": 5,
   "id": "de3c9e4f",
   "metadata": {},
   "outputs": [
    {
     "name": "stdout",
     "output_type": "stream",
     "text": [
      "[6, 7, 8, 9]\n"
     ]
    }
   ],
   "source": [
    "## filter with a lambda function\n",
    "nums = [1,2,3,4,5,6,7,8,9]\n",
    "greater_than_five = list(filter(lambda x: x>5, nums))\n",
    "print(greater_than_five)"
   ]
  },
  {
   "cell_type": "code",
   "execution_count": 6,
   "id": "864f6047",
   "metadata": {},
   "outputs": [
    {
     "name": "stdout",
     "output_type": "stream",
     "text": [
      "[6, 8]\n"
     ]
    }
   ],
   "source": [
    "## filter with a lambda function and multiple conditions\n",
    "nums = [1,2,3,4,5,6,7,8,9]\n",
    "even_and_greater_than_five = list(filter(lambda x : x > 5 and x % 2 == 0, nums))\n",
    "print(even_and_greater_than_five)"
   ]
  },
  {
   "cell_type": "code",
   "execution_count": 7,
   "id": "f660a949",
   "metadata": {},
   "outputs": [
    {
     "name": "stdout",
     "output_type": "stream",
     "text": [
      "[{'name': 'Alice', 'age': 30}, {'name': 'Charlie', 'age': 35}]\n"
     ]
    }
   ],
   "source": [
    "## filter to check if the age is greater than 25 in dictionariy\n",
    "\n",
    "people = [\n",
    "    {\"name\": \"Alice\", \"age\": 30},\n",
    "    {\"name\": \"Bob\", \"age\": 22},\n",
    "    {\"name\": \"Charlie\", \"age\": 35}\n",
    "]\n",
    "\n",
    "def age_greater_than_25(person):\n",
    "  return person[\"age\"] > 25\n",
    "\n",
    "filtered_people = list(filter(age_greater_than_25, people))\n",
    "print(filtered_people)"
   ]
  },
  {
   "cell_type": "markdown",
   "id": "2dc5b428",
   "metadata": {},
   "source": [
    "#### Conclusion\n",
    "The filter() function is a powerful tool for creating iterators that filter items out of an iterable based on a function. It is commonly used for data cleaning, filtering objects, and removing unwanted elements from lists. By mastering filter(), you can write more concise and efficient code for processing and manipulating collections in Python."
   ]
  }
 ],
 "metadata": {
  "kernelspec": {
   "display_name": "Python 3",
   "language": "python",
   "name": "python3"
  },
  "language_info": {
   "codemirror_mode": {
    "name": "ipython",
    "version": 3
   },
   "file_extension": ".py",
   "mimetype": "text/x-python",
   "name": "python",
   "nbconvert_exporter": "python",
   "pygments_lexer": "ipython3",
   "version": "3.12.0"
  }
 },
 "nbformat": 4,
 "nbformat_minor": 5
}
