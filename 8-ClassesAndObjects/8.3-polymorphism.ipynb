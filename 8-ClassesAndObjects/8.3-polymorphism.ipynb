{
 "cells": [
  {
   "cell_type": "markdown",
   "id": "77336075",
   "metadata": {},
   "source": [
    "#### Polymorphism\n",
    "Polymorphism is a core concept in Object-Oriented Programming (OOP) that allows objects of different classes to be treated as objects of a common superclass. It provides a way to perform a single action in different forms. Polymorphism is typically achieved through method overriding and interfaces\n",
    "\n",
    "Method Overriding\n",
    "\n",
    "Method overriding allows a child class to provide a specific implementation of a method that is already defined in its parent class."
   ]
  },
  {
   "cell_type": "code",
   "execution_count": 5,
   "id": "3bb3edd8",
   "metadata": {},
   "outputs": [
    {
     "name": "stdout",
     "output_type": "stream",
     "text": [
      "Bhau Bhau\n",
      "Meow Meow\n",
      "Bhau Bhau\n"
     ]
    }
   ],
   "source": [
    "## base class\n",
    "class Animal:\n",
    "  def speak(self):\n",
    "    return \"Sound of the animal\"\n",
    "\n",
    "## derived class 1\n",
    "class Dog(Animal):\n",
    "  def speak(self):\n",
    "    return \"Bhau Bhau\"\n",
    "  \n",
    "## derived class 2\n",
    "class Cat(Animal):\n",
    "  def speak(self):\n",
    "    return \"Meow Meow\"\n",
    "\n",
    "## function to demonstrate polymorphism\n",
    "def animal_speak(animal):\n",
    "  print(animal.speak())\n",
    "\n",
    "\n",
    "dog = Dog()\n",
    "cat = Cat()\n",
    "print(dog.speak())\n",
    "print(cat.speak())\n",
    "animal_speak(dog)\n",
    "\n"
   ]
  },
  {
   "cell_type": "code",
   "execution_count": null,
   "id": "3a01233d",
   "metadata": {},
   "outputs": [
    {
     "name": "stdout",
     "output_type": "stream",
     "text": [
      "The area is: 50\n",
      "The area is: 153.86\n"
     ]
    }
   ],
   "source": [
    "## polymorphism with functions and methods\n",
    "## base class\n",
    "class Shape:\n",
    "  def area(self):\n",
    "    return \"Area of the shape\"\n",
    "\n",
    "## derived class 1\n",
    "class Rectangle(Shape):\n",
    "  def __init__(self, width, height):\n",
    "    self.width = width\n",
    "    self.height = height\n",
    "    \n",
    "  def area(self):\n",
    "    return self.width * self.height\n",
    "\n",
    "## dervied class 2\n",
    "class Circle(Shape):\n",
    "  def __init__(self, radius):\n",
    "    self.radius = radius\n",
    "    \n",
    "  def area(self):\n",
    "    return 3.14 * self.radius * self.radius\n",
    "  \n",
    "## function to demonstrate polymorphism\n",
    "def print_area(shape):\n",
    "  print(f\"The area is: {shape.area()}\")\n",
    "  \n",
    "rect = Rectangle(5, 10)\n",
    "circle = Circle(7)\n",
    "\n",
    "print_area(rect)\n",
    "print_area(circle)  \n"
   ]
  },
  {
   "cell_type": "markdown",
   "id": "7549a569",
   "metadata": {},
   "source": [
    "#### Polymorphism with Abstract Base Classes\n",
    "Abstract Base Classes (ABCs) are used to define common methods for a group of related objects. They can enforce that derived classes implement particular methods, promoting consistency across different implementations."
   ]
  },
  {
   "cell_type": "code",
   "execution_count": null,
   "id": "b1ce2cbe",
   "metadata": {},
   "outputs": [
    {
     "name": "stdout",
     "output_type": "stream",
     "text": [
      "Car engine started\n",
      "Motorcycle engine started\n"
     ]
    }
   ],
   "source": [
    "## polymorphism with abstract base classes\n",
    "from abc import ABC, abstractmethod\n",
    "\n",
    "## define an abstract class\n",
    "class Vehicle(ABC):\n",
    "  @abstractmethod\n",
    "  def start_engine(self):\n",
    "    pass\n",
    "  \n",
    "## derived class 1\n",
    "class Car(Vehicle):\n",
    "  def start_engine(self):\n",
    "    return \"Car engine started\"\n",
    "\n",
    "## derived class 2\n",
    "class Motorcycle(Vehicle):\n",
    "  def start_engine(self):\n",
    "    return \"Motorcycle engine started\"\n",
    "  \n",
    "## function to demonstrate polymorphism\n",
    "def start_vehicle(vehicle):\n",
    "  print(vehicle.start_engine())\n",
    "  \n",
    "## create objects of car and motorcycle\n",
    "car = Car()\n",
    "motorcycle = Motorcycle()\n",
    "start_vehicle(car)\n",
    "start_vehicle(motorcycle)\n",
    "\n"
   ]
  },
  {
   "cell_type": "markdown",
   "id": "34194c3b",
   "metadata": {},
   "source": [
    "#### Conclusion\n",
    "Polymorphism is a powerful feature of OOP that allows for flexibility and integration in code design. It enables a single function to handle objects of different classes, each with its own implementation of a method. By understanding and applying polymorphism, you can create more extensible and maintainable object-oriented programs."
   ]
  }
 ],
 "metadata": {
  "kernelspec": {
   "display_name": "Python 3",
   "language": "python",
   "name": "python3"
  },
  "language_info": {
   "codemirror_mode": {
    "name": "ipython",
    "version": 3
   },
   "file_extension": ".py",
   "mimetype": "text/x-python",
   "name": "python",
   "nbconvert_exporter": "python",
   "pygments_lexer": "ipython3",
   "version": "3.12.0"
  }
 },
 "nbformat": 4,
 "nbformat_minor": 5
}
