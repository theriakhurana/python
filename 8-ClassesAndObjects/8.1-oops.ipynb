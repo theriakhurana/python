{
 "cells": [
  {
   "cell_type": "markdown",
   "id": "8397d3e9",
   "metadata": {},
   "source": [
    "#### Classes and Objects\n",
    "Object-Oriented Programming (OOP) is a programming paradigm that uses \"objects\" to design applications and computer programs. OOP allows for modeling real-world scenarios using classes and objects. This lesson covers the basics of creating classes and objects, including instance variables and methods"
   ]
  },
  {
   "cell_type": "code",
   "execution_count": 1,
   "id": "49778f85",
   "metadata": {},
   "outputs": [
    {
     "name": "stdout",
     "output_type": "stream",
     "text": [
      "<class '__main__.Car'>\n"
     ]
    }
   ],
   "source": [
    "### A class is a blue print for creating objects. Attributes,methods\n",
    "\n",
    "class Car:\n",
    "  pass\n",
    "\n",
    "audi = Car()\n",
    "bmw = Car()\n",
    "\n",
    "print(type(audi))"
   ]
  },
  {
   "cell_type": "code",
   "execution_count": 3,
   "id": "aa5e304f",
   "metadata": {},
   "outputs": [
    {
     "name": "stdout",
     "output_type": "stream",
     "text": [
      "<__main__.Car object at 0x000001DD3828B620>\n",
      "<__main__.Car object at 0x000001DD38288770>\n"
     ]
    }
   ],
   "source": [
    "print(audi)\n",
    "print(bmw)"
   ]
  },
  {
   "cell_type": "code",
   "execution_count": null,
   "id": "c7b08621",
   "metadata": {},
   "outputs": [
    {
     "name": "stdout",
     "output_type": "stream",
     "text": [
      "4\n"
     ]
    }
   ],
   "source": [
    "audi.windows = 4\n",
    "print(audi.windows)"
   ]
  },
  {
   "cell_type": "code",
   "execution_count": 5,
   "id": "8a687f41",
   "metadata": {},
   "outputs": [
    {
     "ename": "AttributeError",
     "evalue": "'Car' object has no attribute 'windows'",
     "output_type": "error",
     "traceback": [
      "\u001b[31m---------------------------------------------------------------------------\u001b[39m",
      "\u001b[31mAttributeError\u001b[39m                            Traceback (most recent call last)",
      "\u001b[36mCell\u001b[39m\u001b[36m \u001b[39m\u001b[32mIn[5]\u001b[39m\u001b[32m, line 3\u001b[39m\n\u001b[32m      1\u001b[39m tata = Car()\n\u001b[32m      2\u001b[39m tata.doors = \u001b[32m4\u001b[39m\n\u001b[32m----> \u001b[39m\u001b[32m3\u001b[39m \u001b[38;5;28mprint\u001b[39m(\u001b[43mtata\u001b[49m\u001b[43m.\u001b[49m\u001b[43mwindows\u001b[49m)  \u001b[38;5;66;03m# This will raise an AttributeError because 'windows' is not defined for 'tata'\u001b[39;00m\n",
      "\u001b[31mAttributeError\u001b[39m: 'Car' object has no attribute 'windows'"
     ]
    }
   ],
   "source": [
    "tata = Car()\n",
    "tata.doors = 4\n",
    "print(tata.windows)  # This will raise an AttributeError because 'windows' is not defined for 'tata'"
   ]
  },
  {
   "cell_type": "code",
   "execution_count": 26,
   "id": "d865620f",
   "metadata": {},
   "outputs": [
    {
     "data": {
      "text/plain": [
       "['__class__',\n",
       " '__delattr__',\n",
       " '__dict__',\n",
       " '__dir__',\n",
       " '__doc__',\n",
       " '__eq__',\n",
       " '__format__',\n",
       " '__ge__',\n",
       " '__getattribute__',\n",
       " '__getstate__',\n",
       " '__gt__',\n",
       " '__hash__',\n",
       " '__init__',\n",
       " '__init_subclass__',\n",
       " '__le__',\n",
       " '__lt__',\n",
       " '__module__',\n",
       " '__ne__',\n",
       " '__new__',\n",
       " '__reduce__',\n",
       " '__reduce_ex__',\n",
       " '__repr__',\n",
       " '__setattr__',\n",
       " '__sizeof__',\n",
       " '__str__',\n",
       " '__subclasshook__',\n",
       " '__weakref__',\n",
       " 'doors']"
      ]
     },
     "execution_count": 26,
     "metadata": {},
     "output_type": "execute_result"
    }
   ],
   "source": [
    "dir(tata)"
   ]
  },
  {
   "cell_type": "code",
   "execution_count": 17,
   "id": "59f30be8",
   "metadata": {},
   "outputs": [
    {
     "name": "stdout",
     "output_type": "stream",
     "text": [
      "<__main__.Dog object at 0x000001DD383EA960>\n",
      "Buddy\n",
      "3\n"
     ]
    }
   ],
   "source": [
    "## instance variables and methods\n",
    "\n",
    "class Dog:\n",
    "  ## constructor\n",
    "  def __init__(self, name, age):\n",
    "    self.name = name\n",
    "    self.age = age\n",
    "\n",
    "## create objects\n",
    "dog1 = Dog(\"Buddy\",3)\n",
    "print(dog1)\n",
    "print(dog1.name)  # Output: Buddy\n",
    "print(dog1.age)   # Output: 3"
   ]
  },
  {
   "cell_type": "code",
   "execution_count": 16,
   "id": "0262216a",
   "metadata": {},
   "outputs": [
    {
     "name": "stdout",
     "output_type": "stream",
     "text": [
      "Aly\n",
      "5\n"
     ]
    }
   ],
   "source": [
    "dog2 = Dog(\"Aly\", 5)\n",
    "print(dog2.name)  # Output: Aly\n",
    "print(dog2.age)   # Output: 5"
   ]
  },
  {
   "cell_type": "code",
   "execution_count": 19,
   "id": "5b6560ee",
   "metadata": {},
   "outputs": [
    {
     "name": "stdout",
     "output_type": "stream",
     "text": [
      "Buddy says Woof\n",
      "Aly says Woof\n"
     ]
    }
   ],
   "source": [
    "## define a class with instance methods\n",
    "class Dog:\n",
    "  def __init__(self, name, age):\n",
    "    self.name = name\n",
    "    self.age = age\n",
    "    \n",
    "  def bark(self):\n",
    "    print(f\"{self.name} says Woof\")\n",
    "    \n",
    "dog1 = Dog(\"Buddy\", 3)\n",
    "dog1.bark()  # Output: Buddy says Woof\n",
    "\n",
    "dog2 = Dog(\"Aly\", 5)\n",
    "dog2.bark()  # Output: Aly says Woof"
   ]
  },
  {
   "cell_type": "code",
   "execution_count": 20,
   "id": "951737cb",
   "metadata": {},
   "outputs": [
    {
     "name": "stdout",
     "output_type": "stream",
     "text": [
      "Ria\n",
      "1000\n"
     ]
    }
   ],
   "source": [
    "### modelling a bank account\n",
    "\n",
    "## define a class for bank account\n",
    "class BankAccount:\n",
    "  def __init__(self, owner, balance=0):\n",
    "    self.owner = owner\n",
    "    self.balance = balance\n",
    "    \n",
    "  def deposit(self, amount):\n",
    "    self.balance += amount\n",
    "    print(f\"Deposited {amount}. New balance is {self.balance}\")\n",
    "    \n",
    "  def withdraw(self, amount):\n",
    "    if amount > self.balance:\n",
    "      print(\"Insufficient funds\")\n",
    "    else:\n",
    "      self.balance -= amount\n",
    "      print(f\"Withdrew {amount}. New balance is {self.balance}\")\n",
    "      \n",
    "  def get_balance(self):\n",
    "    return self.balance\n",
    "  \n",
    "## create an account\n",
    "\n",
    "account = BankAccount(\"Ria\", 1000)\n",
    "print(account.owner)  # Output: Ria\n",
    "print(account.get_balance())  # Output: 1000\n"
   ]
  },
  {
   "cell_type": "code",
   "execution_count": null,
   "id": "c27799f5",
   "metadata": {},
   "outputs": [
    {
     "name": "stdout",
     "output_type": "stream",
     "text": [
      "Deposited 500. New balance is 1500\n"
     ]
    }
   ],
   "source": [
    "## call instance methods\n",
    "\n",
    "account.deposit(500)  # Output: Deposited 500. New balance is 1500"
   ]
  },
  {
   "cell_type": "code",
   "execution_count": 22,
   "id": "dbfa2db3",
   "metadata": {},
   "outputs": [
    {
     "name": "stdout",
     "output_type": "stream",
     "text": [
      "Withdrew 200. New balance is 1300\n"
     ]
    }
   ],
   "source": [
    "account.withdraw(200)  # Output: Withdrew 200. New balance is 1300"
   ]
  },
  {
   "cell_type": "code",
   "execution_count": 23,
   "id": "823c5474",
   "metadata": {},
   "outputs": [
    {
     "data": {
      "text/plain": [
       "1300"
      ]
     },
     "execution_count": 23,
     "metadata": {},
     "output_type": "execute_result"
    }
   ],
   "source": [
    "account.get_balance()  # Output: 1300"
   ]
  },
  {
   "cell_type": "markdown",
   "id": "6582a84a",
   "metadata": {},
   "source": [
    "#### Conclusion\n",
    "Object-Oriented Programming (OOP) allows you to model real-world scenarios using classes and objects. In this lesson, you learned how to create classes and objects, define instance variables and methods, and use them to perform various operations. Understanding these concepts is fundamental to writing effective and maintainable Python code."
   ]
  }
 ],
 "metadata": {
  "kernelspec": {
   "display_name": "Python 3",
   "language": "python",
   "name": "python3"
  },
  "language_info": {
   "codemirror_mode": {
    "name": "ipython",
    "version": 3
   },
   "file_extension": ".py",
   "mimetype": "text/x-python",
   "name": "python",
   "nbconvert_exporter": "python",
   "pygments_lexer": "ipython3",
   "version": "3.12.0"
  }
 },
 "nbformat": 4,
 "nbformat_minor": 5
}
