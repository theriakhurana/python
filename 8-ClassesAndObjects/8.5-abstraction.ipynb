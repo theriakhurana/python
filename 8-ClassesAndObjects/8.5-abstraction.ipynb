{
 "cells": [
  {
   "cell_type": "markdown",
   "id": "d163f285",
   "metadata": {},
   "source": [
    "#### Abstraction\n",
    "Abstraction is the concept of hiding the complex implementation details and showing only the necessary features of an object. This helps in reducing programming complexity and effort."
   ]
  },
  {
   "cell_type": "code",
   "execution_count": 3,
   "id": "7e625d52",
   "metadata": {},
   "outputs": [
    {
     "name": "stdout",
     "output_type": "stream",
     "text": [
      "The car's engine has started\n",
      "The vehicle is being driven\n"
     ]
    }
   ],
   "source": [
    "from abc import ABC, abstractmethod\n",
    "\n",
    "## abstract class\n",
    "class Vehicle(ABC):\n",
    "  def drive(self):\n",
    "    print(\"The vehicle is being driven\")\n",
    "    \n",
    "  @abstractmethod\n",
    "  def start_engine(self):\n",
    "    pass\n",
    "  \n",
    "class Car(Vehicle):\n",
    "  def start_engine(self):\n",
    "    print(\"The car's engine has started\")\n",
    "    \n",
    "def operate_vehicle(vehicle):\n",
    "  vehicle.start_engine()\n",
    "  vehicle.drive()\n",
    "    \n",
    "car = Car()\n",
    "operate_vehicle(car)"
   ]
  }
 ],
 "metadata": {
  "kernelspec": {
   "display_name": "Python 3",
   "language": "python",
   "name": "python3"
  },
  "language_info": {
   "codemirror_mode": {
    "name": "ipython",
    "version": 3
   },
   "file_extension": ".py",
   "mimetype": "text/x-python",
   "name": "python",
   "nbconvert_exporter": "python",
   "pygments_lexer": "ipython3",
   "version": "3.12.0"
  }
 },
 "nbformat": 4,
 "nbformat_minor": 5
}
