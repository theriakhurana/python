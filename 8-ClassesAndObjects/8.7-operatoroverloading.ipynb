{
 "cells": [
  {
   "cell_type": "markdown",
   "id": "8f749c16",
   "metadata": {},
   "source": [
    "#### Operator Overloading\n",
    "Operator overloading allows you to define the behavior of operators (+, -, *, etc.) for custom objects. You achieve this by overriding specific magic methods in your class."
   ]
  },
  {
   "cell_type": "code",
   "execution_count": null,
   "id": "86b7f5d7",
   "metadata": {},
   "outputs": [],
   "source": [
    "\n",
    "#### Common Operator Overloading Magic Methods\n",
    "'''\n",
    "__add__(self, other): Adds two objects using the + operator.\n",
    "__sub__(self, other): Subtracts two objects using the - operator.\n",
    "__mul__(self, other): Multiplies two objects using the * operator.\n",
    "__truediv__(self, other): Divides two objects using the / operator.\n",
    "__eq__(self, other): Checks if two objects are equal using the == operator.\n",
    "__lt__(self, other): Checks if one object is less than another using the < operator.\n",
    "\n",
    "__gt__\n",
    "'''"
   ]
  },
  {
   "cell_type": "code",
   "execution_count": 2,
   "id": "67a8071d",
   "metadata": {},
   "outputs": [
    {
     "name": "stdout",
     "output_type": "stream",
     "text": [
      "Vector(6, 8)\n",
      "Vector(-2, -2)\n",
      "Vector(8, 15)\n",
      "False\n",
      "True\n"
     ]
    }
   ],
   "source": [
    "## mathematical operations on custom objects\n",
    "class Vector:\n",
    "  def __init__(self, x,y):\n",
    "    self.x = x\n",
    "    self.y = y\n",
    "    \n",
    "  def __add__(self, other):\n",
    "    return Vector(self.x + other.x, self.y + other.y)\n",
    "  \n",
    "  def __sub__(self, other):\n",
    "    return Vector(self.x - other.x, self.y - other.y)\n",
    "  \n",
    "  def __mul__(self, other):\n",
    "    return Vector(self.x * other.x, self.y * other.y)\n",
    "  \n",
    "  def __eq__(self, other):\n",
    "    return self.x == other.x and self.y == other.y\n",
    "\n",
    "  def __repr__(self):\n",
    "    return f\"Vector({self.x}, {self.y})\"\n",
    "  \n",
    "## create objects of vector class\n",
    "v1 = Vector(2,3)\n",
    "v2 = Vector(4,5)\n",
    "\n",
    "print(v1 + v2)\n",
    "print(v1 - v2)\n",
    "print(v1 * v2)\n",
    "print(v1 == v2)\n",
    "print(v1 == Vector(2,3))\n"
   ]
  },
  {
   "cell_type": "code",
   "execution_count": 4,
   "id": "7e385726",
   "metadata": {},
   "outputs": [
    {
     "name": "stdout",
     "output_type": "stream",
     "text": [
      "6 + 8i\n",
      "-2 + -2i\n",
      "-7 + 22i\n",
      "0.5609756097560976 + 0.04878048780487805i\n",
      "False\n"
     ]
    }
   ],
   "source": [
    "## overloading operator for complex numbers\n",
    "\n",
    "class ComplexNumber:\n",
    "  def __init__(self, real, imag):\n",
    "    self.real = real\n",
    "    self.imag = imag\n",
    "    \n",
    "  def __add__(self, other):\n",
    "    return ComplexNumber(self.real + other.real, self.imag + other.imag)\n",
    "  \n",
    "  def __sub__(self, other):\n",
    "    return ComplexNumber(self.real - other.real, self.imag - other.imag)\n",
    "  \n",
    "  def __mul__(self, other):\n",
    "    real_part = self.real * other.real - self.imag * other.imag\n",
    "    imag_part = self.real * other.imag + self.imag * other.real\n",
    "    return ComplexNumber(real_part, imag_part)\n",
    "  \n",
    "  def __truediv__(self, other):\n",
    "    denomiantor = other.real**2  + other.imag**2\n",
    "    real_part = (self.real * other.real + self.imag * other.imag) / denomiantor\n",
    "    imag_part = (self.imag * other.real - self.real * other.imag) / denomiantor\n",
    "    \n",
    "    return ComplexNumber(real_part, imag_part)\n",
    "  \n",
    "  def __eq__(self, other):\n",
    "    return self.real == other.real and self.imag == other.imag\n",
    "  \n",
    "  def __repr__(self):\n",
    "    return f\"{self.real} + {self.imag}i\"\n",
    "  \n",
    "## create complex number objects\n",
    "c1 = ComplexNumber(2,3)\n",
    "c2 = ComplexNumber(4,5)\n",
    "\n",
    "## perform operations\n",
    "print(c1 + c2)\n",
    "print(c1 - c2)\n",
    "print(c1 * c2)\n",
    "print(c1 / c2)\n",
    "print(c1 == c2)  \n",
    "  "
   ]
  }
 ],
 "metadata": {
  "kernelspec": {
   "display_name": "Python 3",
   "language": "python",
   "name": "python3"
  },
  "language_info": {
   "codemirror_mode": {
    "name": "ipython",
    "version": 3
   },
   "file_extension": ".py",
   "mimetype": "text/x-python",
   "name": "python",
   "nbconvert_exporter": "python",
   "pygments_lexer": "ipython3",
   "version": "3.12.0"
  }
 },
 "nbformat": 4,
 "nbformat_minor": 5
}
