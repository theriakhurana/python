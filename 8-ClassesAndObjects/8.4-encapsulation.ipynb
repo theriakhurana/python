{
 "cells": [
  {
   "cell_type": "markdown",
   "id": "ddcbd74d",
   "metadata": {},
   "source": [
    "#### Encapsulation And Abstraction\n",
    "Encapsulation and abstraction are two fundamental principles of Object-Oriented Programming (OOP) that help in designing robust, maintainable, and reusable code. Encapsulation involves bundling data and methods that operate on the data within a single unit, while abstraction involves hiding complex implementation details and exposing only the necessary features.\n",
    "\n",
    "#### Encapsulation\n",
    "Encapsulation is the concept of wrapping data (variables) and methods (functions) together as a single unit. It restricts direct access to some of the object's components, which is a means of preventing accidental interference and misuse of the data."
   ]
  },
  {
   "cell_type": "code",
   "execution_count": 4,
   "id": "72396270",
   "metadata": {},
   "outputs": [
    {
     "data": {
      "text/plain": [
       "'John'"
      ]
     },
     "execution_count": 4,
     "metadata": {},
     "output_type": "execute_result"
    }
   ],
   "source": [
    "### encapsulation with settters and getters\n",
    "## public, protected, private variables or access specifiers\n",
    "\n",
    "class Person:\n",
    "  def __init__(self, name, age):\n",
    "    self.name = name ## public variable\n",
    "    self.age = age ## public variable\n",
    "    \n",
    "def get_name(person): \n",
    "  return person.name\n",
    "    \n",
    "person = Person(\"John\", 30)\n",
    "get_name(person)\n",
    "\n"
   ]
  },
  {
   "cell_type": "code",
   "execution_count": 3,
   "id": "d5af3b42",
   "metadata": {},
   "outputs": [
    {
     "data": {
      "text/plain": [
       "['__class__',\n",
       " '__delattr__',\n",
       " '__dict__',\n",
       " '__dir__',\n",
       " '__doc__',\n",
       " '__eq__',\n",
       " '__format__',\n",
       " '__ge__',\n",
       " '__getattribute__',\n",
       " '__getstate__',\n",
       " '__gt__',\n",
       " '__hash__',\n",
       " '__init__',\n",
       " '__init_subclass__',\n",
       " '__le__',\n",
       " '__lt__',\n",
       " '__module__',\n",
       " '__ne__',\n",
       " '__new__',\n",
       " '__reduce__',\n",
       " '__reduce_ex__',\n",
       " '__repr__',\n",
       " '__setattr__',\n",
       " '__sizeof__',\n",
       " '__str__',\n",
       " '__subclasshook__',\n",
       " '__weakref__',\n",
       " 'age',\n",
       " 'name']"
      ]
     },
     "execution_count": 3,
     "metadata": {},
     "output_type": "execute_result"
    }
   ],
   "source": [
    "dir(person)"
   ]
  },
  {
   "cell_type": "code",
   "execution_count": null,
   "id": "a0cc5ae9",
   "metadata": {},
   "outputs": [],
   "source": [
    "class Person:\n",
    "  def __init__(self, name, age, gender):\n",
    "    self.__name = name ## private variable\n",
    "    self.__age = age ## private variable\n",
    "    self.gender = gender\n",
    "\n",
    "def get_name(person):\n",
    "  return person.__name\n"
   ]
  },
  {
   "cell_type": "code",
   "execution_count": 8,
   "id": "301fa3f2",
   "metadata": {},
   "outputs": [
    {
     "ename": "AttributeError",
     "evalue": "'Person' object has no attribute 'name'",
     "output_type": "error",
     "traceback": [
      "\u001b[31m---------------------------------------------------------------------------\u001b[39m",
      "\u001b[31mAttributeError\u001b[39m                            Traceback (most recent call last)",
      "\u001b[36mCell\u001b[39m\u001b[36m \u001b[39m\u001b[32mIn[8]\u001b[39m\u001b[32m, line 2\u001b[39m\n\u001b[32m      1\u001b[39m person = Person(\u001b[33m\"\u001b[39m\u001b[33mTapu\u001b[39m\u001b[33m\"\u001b[39m, \u001b[32m25\u001b[39m, \u001b[33m'\u001b[39m\u001b[33mmale\u001b[39m\u001b[33m'\u001b[39m)\n\u001b[32m----> \u001b[39m\u001b[32m2\u001b[39m \u001b[43mget_name\u001b[49m\u001b[43m(\u001b[49m\u001b[43mperson\u001b[49m\u001b[43m)\u001b[49m\n",
      "\u001b[36mCell\u001b[39m\u001b[36m \u001b[39m\u001b[32mIn[4]\u001b[39m\u001b[32m, line 10\u001b[39m, in \u001b[36mget_name\u001b[39m\u001b[34m(person)\u001b[39m\n\u001b[32m      9\u001b[39m \u001b[38;5;28;01mdef\u001b[39;00m\u001b[38;5;250m \u001b[39m\u001b[34mget_name\u001b[39m(person): \n\u001b[32m---> \u001b[39m\u001b[32m10\u001b[39m   \u001b[38;5;28;01mreturn\u001b[39;00m \u001b[43mperson\u001b[49m\u001b[43m.\u001b[49m\u001b[43mname\u001b[49m\n",
      "\u001b[31mAttributeError\u001b[39m: 'Person' object has no attribute 'name'"
     ]
    }
   ],
   "source": [
    "person = Person(\"Tapu\", 25, 'male')\n",
    "get_name(person)"
   ]
  },
  {
   "cell_type": "code",
   "execution_count": 9,
   "id": "443533b7",
   "metadata": {},
   "outputs": [
    {
     "data": {
      "text/plain": [
       "['_Person__age',\n",
       " '_Person__name',\n",
       " '__class__',\n",
       " '__delattr__',\n",
       " '__dict__',\n",
       " '__dir__',\n",
       " '__doc__',\n",
       " '__eq__',\n",
       " '__format__',\n",
       " '__ge__',\n",
       " '__getattribute__',\n",
       " '__getstate__',\n",
       " '__gt__',\n",
       " '__hash__',\n",
       " '__init__',\n",
       " '__init_subclass__',\n",
       " '__le__',\n",
       " '__lt__',\n",
       " '__module__',\n",
       " '__ne__',\n",
       " '__new__',\n",
       " '__reduce__',\n",
       " '__reduce_ex__',\n",
       " '__repr__',\n",
       " '__setattr__',\n",
       " '__sizeof__',\n",
       " '__str__',\n",
       " '__subclasshook__',\n",
       " '__weakref__',\n",
       " 'gender']"
      ]
     },
     "execution_count": 9,
     "metadata": {},
     "output_type": "execute_result"
    }
   ],
   "source": [
    "dir(person)"
   ]
  },
  {
   "cell_type": "code",
   "execution_count": 10,
   "id": "c8cc9314",
   "metadata": {},
   "outputs": [
    {
     "name": "stdout",
     "output_type": "stream",
     "text": [
      "Prince\n"
     ]
    }
   ],
   "source": [
    "class Person:\n",
    "  def __init__(self, name, age, gender):\n",
    "    self._name = name ## protected variable\n",
    "    self._age = age ## protected variable\n",
    "    self.gender = gender\n",
    "    \n",
    "class Employee(Person):\n",
    "  def __init__(self, name, age, gender, emp_id):\n",
    "    super().__init__(name, age, gender)\n",
    "    self.emp_id = emp_id\n",
    "\n",
    "employee = Employee('Prince', 25, 'male', 11)\n",
    "print(employee._name)  # Accessing protected variable"
   ]
  },
  {
   "cell_type": "code",
   "execution_count": 11,
   "id": "20b244b7",
   "metadata": {},
   "outputs": [
    {
     "name": "stdout",
     "output_type": "stream",
     "text": [
      "John\n",
      "30\n",
      "32\n",
      "Age cannot be negative\n"
     ]
    }
   ],
   "source": [
    "## encapsulation with settters and getters\n",
    "class Person:\n",
    "  def __init__(self, name, age):\n",
    "    self.__name = name ## private variable\n",
    "    self.__age = age ## private variable\n",
    "    \n",
    "  def get_name(self):\n",
    "    return self.__name\n",
    "  \n",
    "  def set_name(self, name):\n",
    "    self.__name = name\n",
    "  \n",
    "  def get_age(self):\n",
    "    return self.__age\n",
    "\n",
    "  def set_age(self, age):\n",
    "    if age > 0:\n",
    "      self.__age = age\n",
    "    else:\n",
    "      print(\"Age cannot be negative\")\n",
    "      \n",
    "      \n",
    "person = Person(\"John\", 30)\n",
    "\n",
    "# Accessing private variable via getter\n",
    "print(person.get_name()) \n",
    "print(person.get_age())\n",
    "\n",
    "person.set_age(32)\n",
    "print(person.get_age())\n",
    "\n",
    "person.set_age(-5)  # Attempting to set a negative age\n",
    "\n"
   ]
  }
 ],
 "metadata": {
  "kernelspec": {
   "display_name": "Python 3",
   "language": "python",
   "name": "python3"
  },
  "language_info": {
   "codemirror_mode": {
    "name": "ipython",
    "version": 3
   },
   "file_extension": ".py",
   "mimetype": "text/x-python",
   "name": "python",
   "nbconvert_exporter": "python",
   "pygments_lexer": "ipython3",
   "version": "3.12.0"
  }
 },
 "nbformat": 4,
 "nbformat_minor": 5
}
