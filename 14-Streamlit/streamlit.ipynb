{
 "cells": [
  {
   "cell_type": "markdown",
   "id": "5f3d02de",
   "metadata": {},
   "source": [
    "#### Introduction to Streamlit\n",
    "Streamlit is an open-source app framework for Machine Learning and Data Science projects. It allows you to create beautiful web applications for your machine learning and data science projects with simple Python scripts."
   ]
  }
 ],
 "metadata": {
  "kernelspec": {
   "display_name": "Python 3",
   "language": "python",
   "name": "python3"
  },
  "language_info": {
   "name": "python",
   "version": "3.12.0"
  }
 },
 "nbformat": 4,
 "nbformat_minor": 5
}
