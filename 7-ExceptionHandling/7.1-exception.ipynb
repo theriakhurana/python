{
 "cells": [
  {
   "cell_type": "markdown",
   "id": "30818ed5",
   "metadata": {},
   "source": [
    "#### Understanding Exceptions\n",
    "Exception handling in Python allows you to handle errors gracefully and take corrective actions without stopping the execution of the program. This lesson will cover the basics of exceptions, including how to use try, except, else, and finally blocks.\n",
    "\n",
    "What Are Exceptions?\n",
    "\n",
    "Exceptions are events that disrupt the normal flow of a program. They occur when an error is encountered during program execution. Common exceptions include:\n",
    "\n",
    "- ZeroDivisionError: Dividing by zero.\n",
    "- FileNotFoundError: File not found.\n",
    "- ValueError: Invalid value.\n",
    "- TypeError: Invalid type."
   ]
  },
  {
   "cell_type": "code",
   "execution_count": 2,
   "id": "1fcdce47",
   "metadata": {},
   "outputs": [
    {
     "name": "stdout",
     "output_type": "stream",
     "text": [
      "The variable has not been assigned\n"
     ]
    }
   ],
   "source": [
    "## exception try, except block\n",
    "\n",
    "try:\n",
    "  a=b\n",
    "except:\n",
    "  print(\"The variable has not been assigned\")"
   ]
  },
  {
   "cell_type": "code",
   "execution_count": 3,
   "id": "82b33ddb",
   "metadata": {},
   "outputs": [
    {
     "ename": "NameError",
     "evalue": "name 'b' is not defined",
     "output_type": "error",
     "traceback": [
      "\u001b[31m---------------------------------------------------------------------------\u001b[39m",
      "\u001b[31mNameError\u001b[39m                                 Traceback (most recent call last)",
      "\u001b[36mCell\u001b[39m\u001b[36m \u001b[39m\u001b[32mIn[3]\u001b[39m\u001b[32m, line 1\u001b[39m\n\u001b[32m----> \u001b[39m\u001b[32m1\u001b[39m a=\u001b[43mb\u001b[49m\n",
      "\u001b[31mNameError\u001b[39m: name 'b' is not defined"
     ]
    }
   ],
   "source": [
    "a=b"
   ]
  },
  {
   "cell_type": "code",
   "execution_count": 4,
   "id": "dc1ffee3",
   "metadata": {},
   "outputs": [
    {
     "name": "stdout",
     "output_type": "stream",
     "text": [
      "name 'b' is not defined\n"
     ]
    }
   ],
   "source": [
    "try:\n",
    "  a=b\n",
    "except NameError as e:\n",
    "  print(e)"
   ]
  },
  {
   "cell_type": "code",
   "execution_count": 6,
   "id": "1beaf156",
   "metadata": {},
   "outputs": [
    {
     "name": "stdout",
     "output_type": "stream",
     "text": [
      "division by zero\n"
     ]
    }
   ],
   "source": [
    "try:\n",
    "  result = 1/0\n",
    "except ZeroDivisionError as e:\n",
    "  print(e)\n",
    "  "
   ]
  },
  {
   "cell_type": "code",
   "execution_count": 11,
   "id": "32fa7f14",
   "metadata": {},
   "outputs": [
    {
     "name": "stdout",
     "output_type": "stream",
     "text": [
      "name 'b' is not defined\n",
      "Main exception got caught here\n"
     ]
    }
   ],
   "source": [
    "try:\n",
    "  result = 1/2\n",
    "  a=b\n",
    "except ZeroDivisionError as e:\n",
    "  print(e)\n",
    "except Exception as e:\n",
    "  print(e)\n",
    "  print(\"Main exception got caught here\")"
   ]
  },
  {
   "cell_type": "code",
   "execution_count": null,
   "id": "0f795b43",
   "metadata": {},
   "outputs": [
    {
     "name": "stdout",
     "output_type": "stream",
     "text": [
      "division by zero is not allowed\n"
     ]
    }
   ],
   "source": [
    "try:\n",
    "  num = int(input(\"Enter a number: \"))\n",
    "  result = 10 / num\n",
    "except ValueError:\n",
    "  print(\"this is not a valid number\")\n",
    "except ZeroDivisionError:\n",
    "  print(\"division by zero is not allowed\")\n",
    "except Exception as e:\n",
    "  print(e)"
   ]
  },
  {
   "cell_type": "code",
   "execution_count": null,
   "id": "8d83544f",
   "metadata": {},
   "outputs": [
    {
     "name": "stdout",
     "output_type": "stream",
     "text": [
      "division by zero is not allowed\n"
     ]
    }
   ],
   "source": [
    "## try, except, else block\n",
    "\n",
    "try:\n",
    "  num = int(input(\"Enter a number: \"))\n",
    "  result = 10 / num\n",
    "except ValueError:\n",
    "  print(\"this is not a valid number\")\n",
    "except ZeroDivisionError:\n",
    "  print(\"division by zero is not allowed\")\n",
    "else:\n",
    "  print(\"The result is: \", result)\n",
    "  \n",
    "  "
   ]
  },
  {
   "cell_type": "code",
   "execution_count": 19,
   "id": "7ce8c805",
   "metadata": {},
   "outputs": [
    {
     "name": "stdout",
     "output_type": "stream",
     "text": [
      "this is not a valid number\n",
      "Execution completed\n"
     ]
    }
   ],
   "source": [
    "## try, except, else , finally block\n",
    "\n",
    "try:\n",
    "  num = int(input(\"Enter a number: \"))\n",
    "  result = 10 / num\n",
    "except ValueError:\n",
    "  print(\"this is not a valid number\")\n",
    "except ZeroDivisionError:\n",
    "  print(\"division by zero is not allowed\")\n",
    "else:\n",
    "  print(\"The result is: \", result)\n",
    "finally:\n",
    "  print(\"Execution completed\")\n",
    "  \n",
    "  "
   ]
  },
  {
   "cell_type": "code",
   "execution_count": 23,
   "id": "d85c1ca3",
   "metadata": {},
   "outputs": [
    {
     "name": "stdout",
     "output_type": "stream",
     "text": [
      "name 'b' is not defined\n",
      "File has been closed.\n"
     ]
    }
   ],
   "source": [
    "## file handling and exception handling\n",
    "\n",
    "try:\n",
    "  file = open('example.txt', 'r')\n",
    "  content = file.read()\n",
    "  a=b\n",
    "  print(content)\n",
    "\n",
    "except FileNotFoundError:\n",
    "  print(\"The file was not found.\")\n",
    "  \n",
    "except Exception as e:\n",
    "  print(e)\n",
    "  \n",
    "finally:\n",
    "  if 'file' in locals() or not file.closed():\n",
    "    file.close()\n",
    "    print(\"File has been closed.\")"
   ]
  },
  {
   "cell_type": "code",
   "execution_count": 25,
   "id": "6077f014",
   "metadata": {},
   "outputs": [
    {
     "name": "stdout",
     "output_type": "stream",
     "text": [
      "true\n"
     ]
    }
   ],
   "source": [
    "if 'file' in locals():\n",
    "  print(\"true\")"
   ]
  },
  {
   "cell_type": "code",
   "execution_count": 29,
   "id": "76154e40",
   "metadata": {},
   "outputs": [
    {
     "ename": "TypeError",
     "evalue": "'bool' object is not callable",
     "output_type": "error",
     "traceback": [
      "\u001b[31m---------------------------------------------------------------------------\u001b[39m",
      "\u001b[31mTypeError\u001b[39m                                 Traceback (most recent call last)",
      "\u001b[36mCell\u001b[39m\u001b[36m \u001b[39m\u001b[32mIn[29]\u001b[39m\u001b[32m, line 1\u001b[39m\n\u001b[32m----> \u001b[39m\u001b[32m1\u001b[39m \u001b[38;5;129;01mnot\u001b[39;00m \u001b[43mfile\u001b[49m\u001b[43m.\u001b[49m\u001b[43mclosed\u001b[49m\u001b[43m(\u001b[49m\u001b[43m)\u001b[49m\n",
      "\u001b[31mTypeError\u001b[39m: 'bool' object is not callable"
     ]
    }
   ],
   "source": [
    "not file.closed()"
   ]
  }
 ],
 "metadata": {
  "kernelspec": {
   "display_name": "Python 3",
   "language": "python",
   "name": "python3"
  },
  "language_info": {
   "codemirror_mode": {
    "name": "ipython",
    "version": 3
   },
   "file_extension": ".py",
   "mimetype": "text/x-python",
   "name": "python",
   "nbconvert_exporter": "python",
   "pygments_lexer": "ipython3",
   "version": "3.12.0"
  }
 },
 "nbformat": 4,
 "nbformat_minor": 5
}
