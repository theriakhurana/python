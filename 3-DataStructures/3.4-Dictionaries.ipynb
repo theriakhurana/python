{
 "cells": [
  {
   "cell_type": "markdown",
   "id": "efb216e3",
   "metadata": {},
   "source": [
    "#### Dictionaries\n",
    "\n",
    "1. Introduction to Dictionaries\n",
    "2. Creating Dictionaries\n",
    "3. Accessing Dictionary Elements\n",
    "4. Modifying Dictionary Elements\n",
    "5. Dictionary Methods\n",
    "6. Iterating Over Dictionaries\n",
    "7. Nested Dictionaries\n",
    "8. Dictionary Comprehensions\n",
    "9. Practical Examples and Common Errors\n",
    "\n",
    "#### Introduction to Dictionaries\n",
    "Dictionaries are unordered collections of items. They store data in key-value pairs. Keys must be unique and immutable (e.g., strings, numbers, or tuples), while values can be of any type."
   ]
  },
  {
   "cell_type": "code",
   "execution_count": 1,
   "id": "1fec154c",
   "metadata": {},
   "outputs": [
    {
     "name": "stdout",
     "output_type": "stream",
     "text": [
      "<class 'dict'>\n"
     ]
    }
   ],
   "source": [
    "## creating Dictionary\n",
    "empty_dict = {}\n",
    "print(type(empty_dict))"
   ]
  },
  {
   "cell_type": "code",
   "execution_count": 2,
   "id": "0aed8329",
   "metadata": {},
   "outputs": [
    {
     "data": {
      "text/plain": [
       "{}"
      ]
     },
     "execution_count": 2,
     "metadata": {},
     "output_type": "execute_result"
    }
   ],
   "source": [
    "empty_dict = dict()\n",
    "empty_dict"
   ]
  },
  {
   "cell_type": "code",
   "execution_count": 3,
   "id": "9df04d57",
   "metadata": {},
   "outputs": [
    {
     "name": "stdout",
     "output_type": "stream",
     "text": [
      "{'name': 'Ria', 'age': 19, 'grade': 25}\n"
     ]
    }
   ],
   "source": [
    "student= {\"name\":\"Ria\", \"age\":19, \"grade\":25}\n",
    "print(student)"
   ]
  },
  {
   "cell_type": "code",
   "execution_count": null,
   "id": "1b681b35",
   "metadata": {},
   "outputs": [
    {
     "data": {
      "text/plain": [
       "{'name': 25, 'age': 19}"
      ]
     },
     "execution_count": 4,
     "metadata": {},
     "output_type": "execute_result"
    }
   ],
   "source": [
    "## duplicate key --> value gets replaced --> no error\n",
    "student = {\"name\": \"Ria\", \"age\": 19, \"name\": 25}\n",
    "student"
   ]
  },
  {
   "cell_type": "code",
   "execution_count": null,
   "id": "770b2b01",
   "metadata": {},
   "outputs": [
    {
     "name": "stdout",
     "output_type": "stream",
     "text": [
      "Ria\n",
      "19\n",
      "A\n",
      "A\n",
      "None\n",
      "Not available\n"
     ]
    },
    {
     "data": {
      "text/plain": [
       "{'name': 'Ria', 'age': 19, 'grade': 'A'}"
      ]
     },
     "execution_count": 10,
     "metadata": {},
     "output_type": "execute_result"
    }
   ],
   "source": [
    "## accessing dictionary elements\n",
    "student = {\"name\": \"Ria\", \"age\": 19, \"grade\" : 'A'}\n",
    "print(student[\"name\"])\n",
    "print(student[\"age\"])\n",
    "print(student[\"grade\"])\n",
    "\n",
    "## accessing using get() method\n",
    "print(student.get(\"grade\"))\n",
    "print(student.get(\"address\")) ## output: none\n",
    "print(student.get(\"address\", \"Not available\")) ## giving default value"
   ]
  },
  {
   "cell_type": "code",
   "execution_count": 11,
   "id": "7c3847d0",
   "metadata": {},
   "outputs": [
    {
     "name": "stdout",
     "output_type": "stream",
     "text": [
      "{'name': 'Ria', 'age': 19, 'grade': 'A'}\n"
     ]
    }
   ],
   "source": [
    "## modifying dictionary elements\n",
    "## dictionaries are mutable, so you can add, update or delete elements\n",
    "print(student)\n"
   ]
  },
  {
   "cell_type": "code",
   "execution_count": null,
   "id": "e25014a8",
   "metadata": {},
   "outputs": [
    {
     "name": "stdout",
     "output_type": "stream",
     "text": [
      "{'name': 'Ria', 'age': 24, 'grade': 'A'}\n",
      "{'name': 'Ria', 'age': 24, 'grade': 'A', 'address': 'Asgard'}\n"
     ]
    }
   ],
   "source": [
    "student[\"age\"] = 24 ## updating value for the key\n",
    "print(student)\n",
    "student[\"address\"] = \"Asgard\" ## adding a new key and value\n",
    "print(student)"
   ]
  },
  {
   "cell_type": "code",
   "execution_count": 14,
   "id": "30deb65d",
   "metadata": {},
   "outputs": [
    {
     "name": "stdout",
     "output_type": "stream",
     "text": [
      "{'name': 'Ria', 'age': 24, 'address': 'Asgard'}\n"
     ]
    }
   ],
   "source": [
    "del student[\"grade\"] ## delete key and value pair\n",
    "print(student)"
   ]
  },
  {
   "cell_type": "code",
   "execution_count": 17,
   "id": "2eb4da3a",
   "metadata": {},
   "outputs": [
    {
     "name": "stdout",
     "output_type": "stream",
     "text": [
      "dict_keys(['name', 'age', 'address'])\n",
      "dict_values(['Ria', 24, 'Asgard'])\n",
      "dict_items([('name', 'Ria'), ('age', 24), ('address', 'Asgard')])\n"
     ]
    }
   ],
   "source": [
    "## dictionary methods\n",
    "\n",
    "keys = student.keys() ## get all the keys\n",
    "print(keys)\n",
    "values = student.values() ## get all the values\n",
    "print(values)\n",
    "\n",
    "items = student.items() ## get all key-value pairs\n",
    "print(items)"
   ]
  },
  {
   "cell_type": "code",
   "execution_count": 19,
   "id": "6d0ad21f",
   "metadata": {},
   "outputs": [
    {
     "name": "stdout",
     "output_type": "stream",
     "text": [
      "{'name': 'Ria', 'age': 24, 'address': 'Asgard'}\n",
      "{'name': 'Ria', 'age': 24, 'address': 'Asgard'}\n"
     ]
    }
   ],
   "source": [
    "## shallow copy\n",
    "student_copy = student\n",
    "print(student)\n",
    "print(student_copy)"
   ]
  },
  {
   "cell_type": "code",
   "execution_count": 20,
   "id": "d72ac843",
   "metadata": {},
   "outputs": [
    {
     "name": "stdout",
     "output_type": "stream",
     "text": [
      "{'name': 'Thor', 'age': 24, 'address': 'Asgard'}\n",
      "{'name': 'Thor', 'age': 24, 'address': 'Asgard'}\n"
     ]
    }
   ],
   "source": [
    "student[\"name\"] = \"Thor\"\n",
    "print(student)\n",
    "print(student_copy)"
   ]
  },
  {
   "cell_type": "code",
   "execution_count": null,
   "id": "035e71b0",
   "metadata": {},
   "outputs": [
    {
     "name": "stdout",
     "output_type": "stream",
     "text": [
      "{'name': 'Thor', 'age': 24, 'address': 'Asgard'}\n",
      "{'name': 'Thor', 'age': 24, 'address': 'Asgard'}\n",
      "{'name': 'Ironman', 'age': 24, 'address': 'Asgard'}\n",
      "{'name': 'Thor', 'age': 24, 'address': 'Asgard'}\n"
     ]
    }
   ],
   "source": [
    "student_copy1 = student.copy() ## shallow copy -> different memory\n",
    "print(student)\n",
    "print(student_copy1)\n",
    "student[\"name\"] = \"Ironman\"\n",
    "print(student)\n",
    "print(student_copy1)"
   ]
  },
  {
   "cell_type": "code",
   "execution_count": 23,
   "id": "11e05c75",
   "metadata": {},
   "outputs": [
    {
     "name": "stdout",
     "output_type": "stream",
     "text": [
      "name\n",
      "age\n",
      "address\n"
     ]
    }
   ],
   "source": [
    "## iterating over dictionaries\n",
    "## use loops to iterate over dictionaries, keys, values or items\n",
    "\n",
    "## iterating over keys\n",
    "for key in student.keys():\n",
    "  print(key)"
   ]
  },
  {
   "cell_type": "code",
   "execution_count": 24,
   "id": "49505bbd",
   "metadata": {},
   "outputs": [
    {
     "name": "stdout",
     "output_type": "stream",
     "text": [
      "Ironman\n",
      "24\n",
      "Asgard\n"
     ]
    }
   ],
   "source": [
    "## iterating over values\n",
    "for value in student.values():\n",
    "  print(value)"
   ]
  },
  {
   "cell_type": "code",
   "execution_count": null,
   "id": "fc0aa468",
   "metadata": {},
   "outputs": [
    {
     "name": "stdout",
     "output_type": "stream",
     "text": [
      "name: Ironman\n",
      "age: 24\n",
      "address: Asgard\n"
     ]
    }
   ],
   "source": [
    "## iterate over key value pairs\n",
    "for key,value in student.items():\n",
    "  print(f\"{key}: {value}\")"
   ]
  },
  {
   "cell_type": "code",
   "execution_count": 26,
   "id": "9aa128d9",
   "metadata": {},
   "outputs": [
    {
     "name": "stdout",
     "output_type": "stream",
     "text": [
      "{'student1': {'name': 'Thor', 'age': 87}, 'student2': {'name': 'America', 'age': 24}}\n"
     ]
    }
   ],
   "source": [
    "## nested dictionaries\n",
    "student = {\n",
    "  \"student1\" : {\"name\" : \"Thor\", \"age\" : 87},\n",
    "  \"student2\" : {\"name\" : \"America\", \"age\": 24}\n",
    "}\n",
    "print(student)"
   ]
  },
  {
   "cell_type": "code",
   "execution_count": 27,
   "id": "b2234309",
   "metadata": {},
   "outputs": [
    {
     "name": "stdout",
     "output_type": "stream",
     "text": [
      "Thor\n",
      "24\n"
     ]
    }
   ],
   "source": [
    "## access nested dictionary elements\n",
    "print(student[\"student1\"][\"name\"])\n",
    "print(student[\"student2\"][\"age\"])"
   ]
  },
  {
   "cell_type": "code",
   "execution_count": 29,
   "id": "54ac3229",
   "metadata": {},
   "outputs": [
    {
     "name": "stdout",
     "output_type": "stream",
     "text": [
      "student1 : {'name': 'Thor', 'age': 87}\n",
      "name: Thor\n",
      "age: 87\n",
      "student2 : {'name': 'America', 'age': 24}\n",
      "name: America\n",
      "age: 24\n"
     ]
    }
   ],
   "source": [
    "## iterating over nested dictionaries\n",
    "for student_id, student_info in student.items():\n",
    "  print(f\"{student_id} : {student_info}\")\n",
    "  for key, value in student_info.items():\n",
    "    print(f\"{key}: {value}\")"
   ]
  },
  {
   "cell_type": "code",
   "execution_count": 31,
   "id": "a7ef0635",
   "metadata": {},
   "outputs": [
    {
     "name": "stdout",
     "output_type": "stream",
     "text": [
      "{0: 0, 1: 1, 2: 4, 3: 9, 4: 16}\n"
     ]
    }
   ],
   "source": [
    "## dictionary comprehension\n",
    "\n",
    "squares = {x:x**2 for x in range(5)}\n",
    "print(squares)"
   ]
  },
  {
   "cell_type": "code",
   "execution_count": 32,
   "id": "00dbe3cb",
   "metadata": {},
   "outputs": [
    {
     "name": "stdout",
     "output_type": "stream",
     "text": [
      "{0: 0, 2: 4, 4: 16, 6: 36, 8: 64}\n"
     ]
    }
   ],
   "source": [
    "## condition dictionary comprehension\n",
    "evens = {x : x**2 for x in range(10) if x % 2 == 0}\n",
    "print(evens)"
   ]
  },
  {
   "cell_type": "code",
   "execution_count": 33,
   "id": "77699b6a",
   "metadata": {},
   "outputs": [
    {
     "name": "stdout",
     "output_type": "stream",
     "text": [
      "{1: 1, 2: 2, 3: 3, 4: 4}\n"
     ]
    }
   ],
   "source": [
    "## practical examples\n",
    "\n",
    "## use a dictionary to count the frequency of elements in list\n",
    "nums = [1,2,2,3,3,3,4,4,4,4]\n",
    "frequency = {num : nums.count(num) for num in nums}\n",
    "print(frequency)"
   ]
  },
  {
   "cell_type": "code",
   "execution_count": 34,
   "id": "807dbd43",
   "metadata": {},
   "outputs": [
    {
     "name": "stdout",
     "output_type": "stream",
     "text": [
      "{'a': 1, 'b': 3, 'c': 4}\n"
     ]
    }
   ],
   "source": [
    "## merge 2 dictionaries into 1\n",
    "dict1 = {\"a\": 1, \"b\" : 2}\n",
    "dict2 = {\"b\": 3, \"c\" : 4}\n",
    "merged_dict = {**dict1, **dict2}\n",
    "print(merged_dict)"
   ]
  },
  {
   "cell_type": "markdown",
   "id": "cc06e548",
   "metadata": {},
   "source": [
    "#### Conclusion\n",
    "Dictionaries are powerful tools in Python for managing key-value pairs. They are used in a variety of real-world scenarios, such as counting word frequency, grouping data, storing configuration settings, managing phonebooks, tracking inventory, and caching results. Understanding how to leverage dictionaries effectively can greatly enhance the efficiency and readability of your code."
   ]
  }
 ],
 "metadata": {
  "kernelspec": {
   "display_name": "Python 3",
   "language": "python",
   "name": "python3"
  },
  "language_info": {
   "codemirror_mode": {
    "name": "ipython",
    "version": 3
   },
   "file_extension": ".py",
   "mimetype": "text/x-python",
   "name": "python",
   "nbconvert_exporter": "python",
   "pygments_lexer": "ipython3",
   "version": "3.12.0"
  }
 },
 "nbformat": 4,
 "nbformat_minor": 5
}
