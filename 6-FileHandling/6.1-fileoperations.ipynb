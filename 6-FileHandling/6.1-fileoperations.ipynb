{
 "cells": [
  {
   "cell_type": "markdown",
   "id": "8a15ad7f",
   "metadata": {},
   "source": [
    "#### File Operation- Read And Write Files\n",
    "File handling is a crucial part of any programming language. Python provides built-in functions and methods to read from and write to files, both text and binary. This lesson will cover the basics of file handling, including reading and writing text files and binary files."
   ]
  },
  {
   "cell_type": "code",
   "execution_count": 2,
   "id": "d8d8ee13",
   "metadata": {},
   "outputs": [
    {
     "name": "stdout",
     "output_type": "stream",
     "text": [
      "Helloo How are you??\n",
      "i am good\n",
      "Ria is my name\n",
      "I love burrito bowl\n"
     ]
    }
   ],
   "source": [
    "## read a whole file\n",
    "\n",
    "with open('example.txt', 'r') as file:\n",
    "  content = file.read()\n",
    "  print(content)\n"
   ]
  },
  {
   "cell_type": "code",
   "execution_count": 4,
   "id": "c5a6e145",
   "metadata": {},
   "outputs": [
    {
     "name": "stdout",
     "output_type": "stream",
     "text": [
      "Helloo How are you??\n",
      "i am good\n",
      "Ria is my name\n",
      "I love burrito bowl\n"
     ]
    }
   ],
   "source": [
    "## read a file line by line\n",
    "\n",
    "with open('example.txt', 'r') as file:\n",
    "  for line in file:\n",
    "    print(line.strip()) ## strip() removes the newline character"
   ]
  },
  {
   "cell_type": "code",
   "execution_count": 5,
   "id": "02c24e65",
   "metadata": {},
   "outputs": [],
   "source": [
    "## writing a file (overwriting)\n",
    "\n",
    "with open('example.txt', 'w') as file:\n",
    "  file.write(\"Hello world!\\n\")\n",
    "  file.write('This is a new line')"
   ]
  },
  {
   "cell_type": "code",
   "execution_count": 7,
   "id": "4f25d641",
   "metadata": {},
   "outputs": [],
   "source": [
    "## write a file (without overwriting)\n",
    "\n",
    "with open('example.txt', 'a') as file:\n",
    "  file.write(\"Appending this line\\n\")"
   ]
  },
  {
   "cell_type": "code",
   "execution_count": 8,
   "id": "44b6bafb",
   "metadata": {},
   "outputs": [],
   "source": [
    "## writing a list of lines to a file\n",
    "lines = ['first line \\n', 'second line \\n', 'third line \\n']\n",
    "with open('example.txt', 'a') as file:\n",
    "  file.writelines(lines)"
   ]
  },
  {
   "cell_type": "code",
   "execution_count": 9,
   "id": "21cb423e",
   "metadata": {},
   "outputs": [],
   "source": [
    "## binary files\n",
    "\n",
    "## writing to a binary file\n",
    "data = b'\\x00\\x01\\x02\\x03\\x04'\n",
    "with open('example.bin', 'wb') as file:\n",
    "    file.write(data)\n"
   ]
  },
  {
   "cell_type": "code",
   "execution_count": 10,
   "id": "47f21c75",
   "metadata": {},
   "outputs": [
    {
     "name": "stdout",
     "output_type": "stream",
     "text": [
      "b'\\x00\\x01\\x02\\x03\\x04'\n"
     ]
    }
   ],
   "source": [
    "## reading a binary file\n",
    "\n",
    "with open('example.bin', 'rb') as file:\n",
    "  content = file.read()\n",
    "  print(content)"
   ]
  },
  {
   "cell_type": "code",
   "execution_count": 11,
   "id": "53def33e",
   "metadata": {},
   "outputs": [],
   "source": [
    "## read the content from a source text file and write to a destination text file\n",
    "\n",
    "with open('example.txt', 'r') as source_file:\n",
    "  content = source_file.read()\n",
    "  \n",
    "with open('destination.txt', 'w') as dest_file:\n",
    "  dest_file.write(content)"
   ]
  },
  {
   "cell_type": "code",
   "execution_count": null,
   "id": "f5d54a19",
   "metadata": {},
   "outputs": [
    {
     "name": "stdout",
     "output_type": "stream",
     "text": [
      "Lines: 108, Words: 87, Characters: 108\n"
     ]
    }
   ],
   "source": [
    "## read a text file and count the number of lines, words and characters\n",
    "\n",
    "def count_text_file(file_path):\n",
    "  with open(file_path,'r') as file:\n",
    "    lines = file.readlines()\n",
    "    num_lines = len(lines)\n",
    "    word_count = sum(len(line.split()) for line in lines)\n",
    "    char_count = sum(len(line) for line in lines)\n",
    "  \n",
    "  return num_lines, word_count, char_count\n",
    "\n",
    "file_path = 'example.txt'\n",
    "lines, words, chars = count_text_file(file_path)\n",
    "\n",
    "print(f'Lines: {lines}, Words: {words}, Characters: {chars}')"
   ]
  },
  {
   "cell_type": "markdown",
   "id": "3916a473",
   "metadata": {},
   "source": [
    "The w+ mode in Python is used to open a file for both reading and writing. If the file does not exist, it will be created. If the file exists, its content is truncated (i.e., the file is overwritten)."
   ]
  },
  {
   "cell_type": "code",
   "execution_count": 14,
   "id": "8ec5ae88",
   "metadata": {},
   "outputs": [
    {
     "name": "stdout",
     "output_type": "stream",
     "text": [
      "Hello pasta\n",
      "this is a new line\n"
     ]
    }
   ],
   "source": [
    "## writing and then reading a file\n",
    "\n",
    "with open('example.txt', 'w+') as file:\n",
    "  file.write('Hello pasta\\n')\n",
    "  file.write('this is a new line')\n",
    "  \n",
    "  ## move the file cursor to the beginning\n",
    "  file.seek(0)\n",
    "  \n",
    "  ## read the content of the file\n",
    "  content = file.read()\n",
    "  print(content)\n",
    "  \n",
    "  \n",
    "  "
   ]
  }
 ],
 "metadata": {
  "kernelspec": {
   "display_name": "Python 3",
   "language": "python",
   "name": "python3"
  },
  "language_info": {
   "codemirror_mode": {
    "name": "ipython",
    "version": 3
   },
   "file_extension": ".py",
   "mimetype": "text/x-python",
   "name": "python",
   "nbconvert_exporter": "python",
   "pygments_lexer": "ipython3",
   "version": "3.12.0"
  }
 },
 "nbformat": 4,
 "nbformat_minor": 5
}
